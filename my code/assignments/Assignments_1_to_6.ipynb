{
  "cells": [
    {
      "cell_type": "code",
      "execution_count": null,
      "metadata": {
        "colab": {
          "base_uri": "https://localhost:8080/"
        },
        "id": "rGViJlICXaXP",
        "outputId": "fdd948e1-81ab-46f5-8d1c-43b948f3d5d7"
      },
      "outputs": [],
      "source": [
        "name = input(\"Enter a name: \")\n",
        "place = input(\"Enter a place: \")\n",
        "adjective = input(\"Enter an adjective: \")\n",
        "food = input(\"Enter a favorite food: \")\n",
        "verb = input(\"Enter a verb: \")\n",
        "\n",
        "# Story Template\n",
        "story = f\"\"\"\n",
        "Once upon a time, {name} went to {place}. It was a very {adjective} place.\n",
        "There, {name} found a magical shop selling {food}.\n",
        "Excited, {name} decided to {verb} all day long. It was an unforgettable experience!\n",
        "\"\"\"\n",
        "print(\"\\n✨ Your Mad Libs Story ✨\")\n",
        "print(story)\n"
      ]
    },
    {
      "cell_type": "code",
      "execution_count": null,
      "metadata": {
        "colab": {
          "base_uri": "https://localhost:8080/"
        },
        "id": "wBBZVo-zZELh",
        "outputId": "69bc5ce4-d575-4e46-ede7-2f8144a43b8c"
      },
      "outputs": [],
      "source": [
        "import random\n",
        "\n",
        "secret_number = random.randint(1, 100)\n",
        "\n",
        "print(\"🎯 Welcome to 'Guess the Number' game!\")\n",
        "print(\"I have chosen a number between 1 and 100. Can you guess it?\")\n",
        "\n",
        "attempts = 0\n",
        "while True:\n",
        "    guess = int(input(\"Enter your guess: \"))\n",
        "    attempts += 1\n",
        "\n",
        "    if guess < secret_number:\n",
        "        print(\"Too low! Try again. ⬆️\")\n",
        "    elif guess > secret_number:\n",
        "        print(\"Too high! Try again. ⬇️\")\n",
        "    else:\n",
        "        print(f\"🎉 Congratulations! You guessed the number in {attempts} attempts.\")\n",
        "        break\n"
      ]
    },
    {
      "cell_type": "code",
      "execution_count": null,
      "metadata": {
        "colab": {
          "base_uri": "https://localhost:8080/"
        },
        "id": "DgV-ykwtaTql",
        "outputId": "62699e86-3f69-488f-f03d-d611a3b1d80e"
      },
      "outputs": [],
      "source": [
        "\n",
        "\n",
        "\n",
        "\n",
        "\n",
        "\n",
        "\n",
        "\n",
        "\n",
        "\n",
        "\n",
        "\n",
        "\n",
        "\n",
        "\n",
        "\n",
        "\n",
        "\n",
        "\n",
        "\n",
        "\n",
        "\n",
        "\n",
        "\n",
        "\n",
        "\n",
        "\n",
        "import random\n",
        "\n",
        "def computer_guess(x):\n",
        "    low = 1\n",
        "    high = x\n",
        "    attempts = 0\n",
        "    feedback = \"\"\n",
        "\n",
        "    print(\"🤖 Think of a number between 1 and\", x, \"and let the computer guess it!\")\n",
        "\n",
        "    while feedback != \"c\":\n",
        "        attempts += 1\n",
        "        if low != high:\n",
        "            guess = random.randint(low, high)\n",
        "        else:\n",
        "            guess = low\n",
        "\n",
        "        feedback = input(f\"Is {guess} too high (H), too low (L), or correct (C)? \").lower()\n",
        "\n",
        "        if feedback == \"h\":\n",
        "            high = guess - 1\n",
        "        elif feedback == \"l\":\n",
        "            low = guess + 1\n",
        "\n",
        "    print(f\"🎉 Yay! The computer guessed your number {guess} in {attempts} attempts!\")\n",
        "\n",
        "computer_guess(100)\n"
      ]
    },
    {
      "cell_type": "code",
      "execution_count": null,
      "metadata": {
        "colab": {
          "base_uri": "https://localhost:8080/"
        },
        "id": "bVM0dTf9b9S1",
        "outputId": "1037235c-177f-4bd8-d95a-bfa9b58446f9"
      },
      "outputs": [],
      "source": [
        "import random\n",
        "\n",
        "def play():\n",
        "    user = input(\"🎮 Choose Rock (r), Paper (p), or Scissors (s): \").lower()\n",
        "    computer = random.choice([\"r\", \"p\", \"s\"])\n",
        "\n",
        "    print(f\"🤖 Computer chose: {computer}\")\n",
        "\n",
        "    if user == computer:\n",
        "        return \"😐 It's a tie!\"\n",
        "\n",
        "    if is_win(user, computer):\n",
        "        return \"🎉 You win!\"\n",
        "\n",
        "    return \"💀 You lose!\"\n",
        "\n",
        "def is_win(player, opponent):\n",
        "    # r > s, s > p, p > r (Winning Conditions)\n",
        "    if (player == \"r\" and opponent == \"s\") or \\\n",
        "       (player == \"s\" and opponent == \"p\") or \\\n",
        "       (player == \"p\" and opponent == \"r\"):\n",
        "        return True\n",
        "    return False\n",
        "\n",
        "print(play())\n"
      ]
    },
    {
      "cell_type": "code",
      "execution_count": null,
      "metadata": {
        "colab": {
          "base_uri": "https://localhost:8080/"
        },
        "id": "eNyT5DJFegjg",
        "outputId": "6289d614-3bcc-44a3-db1c-f9216b67d1ec"
      },
      "outputs": [],
      "source": [
        "import random\n",
        "\n",
        "words = [\"python\", \"hangman\", \"developer\", \"coding\", \"programming\"]\n",
        "\n",
        "def get_word():\n",
        "    return random.choice(words).lower()\n",
        "\n",
        "def hangman():\n",
        "    word = get_word()\n",
        "    guessed_letters = set()\n",
        "    attempts = 6\n",
        "    word_display = [\"_\"] * len(word)\n",
        "\n",
        "    print(\"🎭 Welcome to Hangman!\")\n",
        "\n",
        "    while attempts > 0 and \"_\" in word_display:\n",
        "        print(\"\\nWord: \", \" \".join(word_display))\n",
        "        guess = input(\"🔠 Guess a letter: \").lower()\n",
        "\n",
        "        if guess in guessed_letters:\n",
        "            print(\"⚠️ You already guessed that letter.\")\n",
        "            continue\n",
        "\n",
        "        guessed_letters.add(guess)\n",
        "\n",
        "        if guess in word:\n",
        "            print(\"✅ Correct guess!\")\n",
        "            for i in range(len(word)):\n",
        "                if word[i] == guess:\n",
        "                    word_display[i] = guess\n",
        "        else:\n",
        "            print(\"❌ Wrong guess! You lose a life.\")\n",
        "            attempts -= 1\n",
        "\n",
        "        print(f\"❤️ Remaining attempts: {attempts}\")\n",
        "\n",
        "    if \"_\" not in word_display:\n",
        "        print(f\"🎉 Congratulations! You guessed the word: {word}\")\n",
        "    else:\n",
        "        print(f\"💀 Game Over! The word was: {word}\")\n",
        "\n",
        "hangman()\n"
      ]
    },
    {
      "cell_type": "code",
      "execution_count": null,
      "metadata": {
        "colab": {
          "base_uri": "https://localhost:8080/"
        },
        "id": "He7bWMptgqOA",
        "outputId": "f9a6449e-4bbf-48ce-93a2-a4c930d62011"
      },
      "outputs": [],
      "source": [
        "import time\n",
        "\n",
        "def countdown_timer(seconds):\n",
        "    while seconds:\n",
        "        mins, secs = divmod(seconds, 60)\n",
        "        timer = f\"{mins:02d}:{secs:02d}\"\n",
        "        print(timer, end=\"\\r\")\n",
        "        time.sleep(1)\n",
        "        seconds -= 1\n",
        "\n",
        "    print(\"⏰ Time's up!\")\n",
        "\n",
        "seconds = int(input(\"Enter time in seconds: \"))\n",
        "countdown_timer(seconds)\n"
      ]
    },
    {
      "cell_type": "code",
      "execution_count": null,
      "metadata": {
        "colab": {
          "base_uri": "https://localhost:8080/"
        },
        "id": "_Sx-Yvy7heWG",
        "outputId": "85b46f27-92bb-49fc-a170-b65138fbc187"
      },
      "outputs": [],
      "source": [
        "import random\n",
        "import string\n",
        "\n",
        "def generate_password(length):\n",
        "    characters = string.ascii_letters + string.digits + string.punctuation\n",
        "    password = ''.join(random.choice(characters) for _ in range(length))\n",
        "    return password\n",
        "\n",
        "num_passwords = int(input(\"Enter the number of passwords you want to generate: \"))\n",
        "length = int(input(\"Enter the length of each password: \"))\n",
        "\n",
        "print(\"\\nGenerated Passwords:\")\n",
        "for _ in range(num_passwords):\n",
        "    print(generate_password(length))\n"
      ]
    }
  ],
  "metadata": {
    "colab": {
      "authorship_tag": "ABX9TyMjTNJkm5Z0DtzrEKPMSOSh",
      "include_colab_link": true,
      "provenance": []
    },
    "kernelspec": {
      "display_name": "base",
      "language": "python",
      "name": "python3"
    },
    "language_info": {
      "codemirror_mode": {
        "name": "ipython",
        "version": 3
      },
      "file_extension": ".py",
      "mimetype": "text/x-python",
      "name": "python",
      "nbconvert_exporter": "python",
      "pygments_lexer": "ipython3",
      "version": "3.12.7"
    }
  },
  "nbformat": 4,
  "nbformat_minor": 0
}
