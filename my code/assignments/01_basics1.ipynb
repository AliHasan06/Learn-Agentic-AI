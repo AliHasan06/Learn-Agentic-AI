{
  "cells": [
    {
      "cell_type": "code",
      "execution_count": null,
      "metadata": {
        "colab": {
          "base_uri": "https://localhost:8080/"
        },
        "id": "1__f6cpCk-oy",
        "outputId": "9900a4dd-d40d-40c5-a96d-a00db26e057e"
      },
      "outputs": [
        {
          "name": "stdout",
          "output_type": "stream",
          "text": [
            "What do you want? joke\n",
            "Here is a joke for you! \n",
            "Panaversity Summiya is heading out to the grocery store. \n",
            "A programmer tells her: get a liter of milk, and if they have eggs, get 12. \n",
            "Summiya returns with 13 liters of milk. The programmer asks why and Summiya replies: \n",
            "'because they had eggs'\n"
          ]
        }
      ],
      "source": [
        "PROMPT: str = \"What do you want? \"\n",
        "JOKE: str = \"\"\"Here is a joke for you!\n",
        "Panaversity Ali is heading out to the grocery store.\n",
        "A programmer tells her: get a liter of milk, and if they have eggs, get 12.\n",
        "Ali returns with 13 liters of milk. The programmer asks why and Ali replies:\n",
        "'because they had eggs'\"\"\"\n",
        "SORRY: str = \"Sorry I only tell jokes.\"\n",
        "\n",
        "def main():\n",
        "    user_input = input(PROMPT).strip()\n",
        "\n",
        "    if user_input.lower() == \"joke\":\n",
        "        print(JOKE)\n",
        "    else:\n",
        "        print(SORRY)\n",
        "\n",
        "if __name__ == \"__main__\":\n",
        "    main()\n"
      ]
    },
    {
      "cell_type": "code",
      "execution_count": 3,
      "metadata": {
        "colab": {
          "base_uri": "https://localhost:8080/"
        },
        "id": "2BuaAeV-l3RG",
        "outputId": "922c02d3-db28-48f3-b3f5-92cdd244f8fe"
      },
      "outputs": [
        {
          "name": "stdout",
          "output_type": "stream",
          "text": [
            "Enter a number: 6\n",
            "12 24 48 96 192 "
          ]
        }
      ],
      "source": [
        "def main():\n",
        "    curr_value = int(input(\"Enter a number: \"))\n",
        "\n",
        "    while curr_value < 100:\n",
        "        curr_value *= 2\n",
        "        print(curr_value, end=\" \")\n",
        "\n",
        "if __name__ == \"__main__\":\n",
        "    main()\n"
      ]
    },
    {
      "cell_type": "code",
      "execution_count": 4,
      "metadata": {
        "colab": {
          "base_uri": "https://localhost:8080/"
        },
        "id": "anr5eq3NmPxF",
        "outputId": "9140062e-4fec-438f-e1a7-b14acef76eba"
      },
      "outputs": [
        {
          "name": "stdout",
          "output_type": "stream",
          "text": [
            "10 9 8 7 6 5 4 3 2 1 Liftoff!\n"
          ]
        }
      ],
      "source": [
        "def main():\n",
        "    for i in range(10, 0, -1):\n",
        "        print(i, end=\" \")\n",
        "    print(\"Liftoff!\")\n",
        "\n",
        "if __name__ == \"__main__\":\n",
        "    main()\n"
      ]
    },
    {
      "cell_type": "code",
      "execution_count": 5,
      "metadata": {
        "colab": {
          "base_uri": "https://localhost:8080/"
        },
        "id": "pwSFDZ0-mlKQ",
        "outputId": "c34def59-93b5-44ce-9217-c6200ccf878d"
      },
      "outputs": [
        {
          "name": "stdout",
          "output_type": "stream",
          "text": [
            "I am thinking of a number between 1 and 99...\n",
            "Enter a guess: 50\n",
            "Your guess is too high\n",
            "Enter a new guess: 2\n",
            "Your guess is too low\n",
            "Enter a new guess: 9\n",
            "Your guess is too low\n",
            "Enter a new guess: 49\n",
            "Your guess is too high\n",
            "Enter a new guess: 48\n",
            "Your guess is too high\n",
            "Enter a new guess: 69\n",
            "Your guess is too high\n",
            "Enter a new guess: 39\n",
            "Your guess is too high\n",
            "Enter a new guess: 29\n",
            "Your guess is too low\n",
            "Enter a new guess: 35\n",
            "Your guess is too low\n",
            "Enter a new guess: 37\n",
            "Your guess is too high\n",
            "Enter a new guess: 36\n",
            "Congrats! The number was: 36\n"
          ]
        }
      ],
      "source": [
        "import random\n",
        "\n",
        "def main():\n",
        "    secret_number = random.randint(1, 99)\n",
        "\n",
        "    print(\"I am thinking of a number between 1 and 99...\")\n",
        "\n",
        "    guess = int(input(\"Enter a guess: \"))\n",
        "\n",
        "    while guess != secret_number:\n",
        "        if guess < secret_number:\n",
        "            print(\"Your guess is too low\")\n",
        "        else:\n",
        "            print(\"Your guess is too high\")\n",
        "\n",
        "        guess = int(input(\"Enter a new guess: \"))\n",
        "\n",
        "    print(f\"Congrats! The number was: {secret_number}\")\n",
        "\n",
        "if __name__ == '__main__':\n",
        "    main()\n"
      ]
    },
    {
      "cell_type": "code",
      "execution_count": 6,
      "metadata": {
        "colab": {
          "base_uri": "https://localhost:8080/"
        },
        "id": "KYeqEHBjnojm",
        "outputId": "c3df5f8a-8728-4669-b224-aceed3a1c92b"
      },
      "outputs": [
        {
          "name": "stdout",
          "output_type": "stream",
          "text": [
            "17 18 7 11 54 93 30 1 9 15 "
          ]
        }
      ],
      "source": [
        "import random\n",
        "\n",
        "N_NUMBERS = 10\n",
        "MIN_VALUE = 1\n",
        "MAX_VALUE = 100\n",
        "\n",
        "def main():\n",
        "    for _ in range(N_NUMBERS):\n",
        "        print(random.randint(MIN_VALUE, MAX_VALUE), end=\" \")\n",
        "\n",
        "if __name__ == '__main__':\n",
        "    main()\n"
      ]
    }
  ],
  "metadata": {
    "colab": {
      "authorship_tag": "ABX9TyO2HB6GQ+juLFOh0o0tlbzj",
      "include_colab_link": true,
      "provenance": []
    },
    "kernelspec": {
      "display_name": "Python 3",
      "name": "python3"
    },
    "language_info": {
      "name": "python"
    }
  },
  "nbformat": 4,
  "nbformat_minor": 0
}
