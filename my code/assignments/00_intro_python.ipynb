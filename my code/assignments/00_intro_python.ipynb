{
  "cells": [
    {
      "cell_type": "code",
      "execution_count": null,
      "metadata": {
        "colab": {
          "base_uri": "https://localhost:8080/"
        },
        "id": "m3_VNNIeAd9W",
        "outputId": "7b0ab09a-305c-4562-f3aa-3a04dbef75a4"
      },
      "outputs": [],
      "source": [
        "def main():\n",
        "    print(\"This program adds two numbers.\")\n",
        "\n",
        "    num1 = int(input(\"Enter first number: \"))\n",
        "    num2 = int(input(\"Enter second number: \"))\n",
        "\n",
        "    total = num1 + num2\n",
        "    print(\"The total is:\", total)\n",
        "\n",
        "\n",
        "if __name__ == '__main__':\n",
        "    main()\n"
      ]
    },
    {
      "cell_type": "code",
      "execution_count": null,
      "metadata": {
        "colab": {
          "base_uri": "https://localhost:8080/"
        },
        "id": "e0UPY9bgEDhF",
        "outputId": "c4655b47-468e-462a-c5f1-f0567f07678f"
      },
      "outputs": [],
      "source": [
        "def main():\n",
        "    animal = input(\"What's your favorite animal? \")\n",
        "\n",
        "    print(\"My favorite animal is also \" + animal + \"!\")\n",
        "\n",
        "if __name__ == '__main__':\n",
        "    main()\n"
      ]
    },
    {
      "cell_type": "code",
      "execution_count": null,
      "metadata": {
        "colab": {
          "base_uri": "https://localhost:8080/"
        },
        "id": "onHlJamBEYxM",
        "outputId": "1679afb8-788f-46bc-cf68-de81480b1fe9"
      },
      "outputs": [],
      "source": [
        "def main():\n",
        "\n",
        "    fahrenheit = float(input(\"Enter temperature in Fahrenheit: \"))\n",
        "    celsius = (fahrenheit - 32) * 5.0 / 9.0\n",
        "\n",
        "    print(f\"Temperature: {fahrenheit:.1f}F = {celsius:.6f}C\")\n",
        "\n",
        "if __name__ == '__main__':\n",
        "    main()\n"
      ]
    },
    {
      "cell_type": "code",
      "execution_count": null,
      "metadata": {
        "colab": {
          "base_uri": "https://localhost:8080/"
        },
        "id": "Tf28j09yEwOc",
        "outputId": "db6771e3-4c4b-45c0-b28d-116c3211bd8c"
      },
      "outputs": [],
      "source": [
        "def main():\n",
        "    ali: int = 21\n",
        "    ahmed: int = ali + 1\n",
        "    junaid: int = ahmed + 3\n",
        "    alisha: int = junaid + ali\n",
        "    ayesha: int = junaid\n",
        "\n",
        "    print(\"ali is \" + str(ali))\n",
        "    print(\"ahmed is \" + str(ahmed))\n",
        "    print(\"Junaid is \" + str(junaid))\n",
        "    print(\"Alisha is \" + str(alisha))\n",
        "    print(\"Ayesha is \" + str(ayesha))\n",
        "\n",
        "if __name__ == '__main__':\n",
        "    main()\n"
      ]
    },
    {
      "cell_type": "code",
      "execution_count": null,
      "metadata": {
        "colab": {
          "base_uri": "https://localhost:8080/"
        },
        "id": "RyXg_kA4Ft7O",
        "outputId": "080279dd-3bdf-4f97-a403-01ba72e547ed"
      },
      "outputs": [],
      "source": [
        "def main():\n",
        "\n",
        "    sideA: float = float(input(\"What is the length of side A? \"))\n",
        "    sideB: float = float(input(\"What is the length of side B? \"))\n",
        "    sideC: float = float(input(\"What is the length of side C? \"))\n",
        "\n",
        "    perimeter: float = sideA + sideB + sideC\n",
        "    print(\"The total perimeter of the triangle is \" + str(perimeter))\n",
        "\n",
        "if __name__ == '__main__':\n",
        "    main()\n"
      ]
    },
    {
      "cell_type": "code",
      "execution_count": null,
      "metadata": {
        "colab": {
          "base_uri": "https://localhost:8080/"
        },
        "id": "vjRD1IK2F__C",
        "outputId": "dd0e713f-a377-4293-8ca9-88bca965542d"
      },
      "outputs": [],
      "source": [
        "def main():\n",
        "    number: float = float(input(\"Enter a number to find its square: \"))\n",
        "    square: float = number ** 2\n",
        "\n",
        "    print(f\"The square of {number} is {square}\")\n",
        "\n",
        "if __name__ == '__main__':\n",
        "    main()\n"
      ]
    }
  ],
  "metadata": {
    "colab": {
      "authorship_tag": "ABX9TyPJ/3OvLqFAhylYpY8g4L0o",
      "include_colab_link": true,
      "provenance": []
    },
    "kernelspec": {
      "display_name": "Python 3",
      "name": "python3"
    },
    "language_info": {
      "name": "python"
    }
  },
  "nbformat": 4,
  "nbformat_minor": 0
}
