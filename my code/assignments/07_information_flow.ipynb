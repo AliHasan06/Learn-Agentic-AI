{
  "cells": [
    {
      "cell_type": "code",
      "execution_count": null,
      "metadata": {
        "colab": {
          "base_uri": "https://localhost:8080/"
        },
        "id": "fOK4fVWFZ0YU",
        "outputId": "fe17e364-17fa-4f5e-aeb2-837ca19194a5"
      },
      "outputs": [],
      "source": [
        "ADULT_AGE: int = 18\n",
        "\n",
        "def is_adult(age: int):\n",
        "\n",
        "    return age >= ADULT_AGE\n",
        "\n",
        "def main():\n",
        "    age = int(input(\"How old is this person?: \"))\n",
        "    print(is_adult(age))\n",
        "\n",
        "if __name__ == \"__main__\":\n",
        "    main()\n"
      ]
    },
    {
      "cell_type": "code",
      "execution_count": null,
      "metadata": {
        "colab": {
          "base_uri": "https://localhost:8080/"
        },
        "id": "nODDGo62aiwm",
        "outputId": "36391ee7-598e-4922-9d94-db3a5e3363bf"
      },
      "outputs": [],
      "source": [
        "def greet(name: str):\n",
        "\n",
        "    return \"Greetings \" + name + \"!\"\n",
        "\n",
        "def main():\n",
        "    name = input(\"What's your name? \")\n",
        "    print(greet(name))\n",
        "\n",
        "if __name__ == '__main__':\n",
        "    main()\n"
      ]
    },
    {
      "cell_type": "code",
      "execution_count": null,
      "metadata": {
        "colab": {
          "base_uri": "https://localhost:8080/"
        },
        "id": "ZmvvqKGLa2V3",
        "outputId": "c8219bfa-38ed-41d7-e095-25fced056713"
      },
      "outputs": [],
      "source": [
        "def in_range(n: int, low: int, high: int) -> bool:\n",
        "\n",
        "    return low <= n <= high  # Shorter way to check range condition\n",
        "\n",
        "def main():\n",
        "\n",
        "    n = int(input(\"Enter a number: \"))\n",
        "    low = int(input(\"Enter the lower bound: \"))\n",
        "    high = int(input(\"Enter the upper bound: \"))\n",
        "\n",
        "    print(in_range(n, low, high))\n",
        "\n",
        "if __name__ == '__main__':\n",
        "    main()\n"
      ]
    },
    {
      "cell_type": "code",
      "execution_count": null,
      "metadata": {
        "colab": {
          "base_uri": "https://localhost:8080/"
        },
        "id": "H1lgo_U3bOyk",
        "outputId": "3913487b-b779-465a-c4ae-bf4eae26c2ed"
      },
      "outputs": [],
      "source": [
        "def num_in_stock(fruit: str) -> int:\n",
        "\n",
        "    inventory = {\n",
        "        'apple': 2,\n",
        "        'mango': 4,\n",
        "        'banana': 1000\n",
        "    }\n",
        "    return inventory.get(fruit, 0)\n",
        "\n",
        "def main():\n",
        "    fruit = input(\"Enter a fruit: \").strip().lower()\n",
        "\n",
        "    stock = num_in_stock(fruit)\n",
        "\n",
        "    if stock > 0:\n",
        "        print(\"This fruit is in stock! Here is how many:\")\n",
        "        print(stock)\n",
        "    else:\n",
        "        print(\"This fruit is not in stock.\")\n",
        "\n",
        "if __name__ == '__main__':\n",
        "    main()\n"
      ]
    },
    {
      "cell_type": "code",
      "execution_count": null,
      "metadata": {
        "colab": {
          "base_uri": "https://localhost:8080/"
        },
        "id": "LHj-Rn3hbw80",
        "outputId": "cea66ef7-cb2b-4f5a-94e0-f74c2713d4ab"
      },
      "outputs": [],
      "source": [
        "def get_user_info():\n",
        "\n",
        "    first_name = input(\"What is your first name?: \")\n",
        "    last_name = input(\"What is your last name?: \")\n",
        "    email_address = input(\"What is your email address?: \")\n",
        "\n",
        "    return first_name, last_name, email_address\n",
        "\n",
        "def main():\n",
        "    user_data = get_user_info()\n",
        "    print(\"Received the following user data:\", user_data)\n",
        "\n",
        "if __name__ == \"__main__\":\n",
        "     main()\n"
      ]
    },
    {
      "cell_type": "code",
      "execution_count": null,
      "metadata": {
        "colab": {
          "base_uri": "https://localhost:8080/"
        },
        "id": "AZm5rUBhcL3s",
        "outputId": "4ec8b283-d9f9-4574-a05a-7c479b8c3f6b"
      },
      "outputs": [],
      "source": [
        "def subtract_seven(num):\n",
        "\n",
        "    return num - 7\n",
        "\n",
        "def main():\n",
        "    num = 7\n",
        "    num = subtract_seven(num)\n",
        "    print(\"This should be zero:\", num)\n",
        "\n",
        "if __name__ == '__main__':\n",
        "    main()\n"
      ]
    }
  ],
  "metadata": {
    "colab": {
      "authorship_tag": "ABX9TyMdlXH6xmD15NUQjEbI3Yt/",
      "include_colab_link": true,
      "provenance": []
    },
    "kernelspec": {
      "display_name": "Python 3",
      "name": "python3"
    },
    "language_info": {
      "name": "python"
    }
  },
  "nbformat": 4,
  "nbformat_minor": 0
}
