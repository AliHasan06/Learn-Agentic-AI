{
  "cells": [
    {
      "cell_type": "code",
      "execution_count": 1,
      "metadata": {
        "colab": {
          "base_uri": "https://localhost:8080/"
        },
        "id": "ocG1Bzt8ruix",
        "outputId": "16c95fd8-441b-4596-c38a-ba6e0bca80fb"
      },
      "outputs": [
        {
          "name": "stdout",
          "output_type": "stream",
          "text": [
            "0\n",
            "2\n",
            "4\n",
            "6\n",
            "8\n",
            "10\n",
            "12\n",
            "14\n",
            "16\n",
            "18\n",
            "20\n",
            "22\n",
            "24\n",
            "26\n",
            "28\n",
            "30\n",
            "32\n",
            "34\n",
            "36\n",
            "38\n"
          ]
        }
      ],
      "source": [
        "def main():\n",
        "    for i in range(20):\n",
        "        print(i * 2)\n",
        "\n",
        "if __name__ == \"__main__\":\n",
        "    main()"
      ]
    },
    {
      "cell_type": "code",
      "execution_count": null,
      "metadata": {
        "colab": {
          "base_uri": "https://localhost:8080/"
        },
        "id": "VYmuZxgCr7bl",
        "outputId": "2eff9b7a-6f96-462f-dabb-8d6a5e2076cd"
      },
      "outputs": [
        {
          "name": "stdout",
          "output_type": "stream",
          "text": [
            "How old are you? 21\n",
            "You cannot vote in Jamshed where the voting age is 22.\n",
            "You can vote in Summiya where the voting age is 21.\n",
            "You can vote in Faiza where the voting age is 20.\n"
          ]
        }
      ],
      "source": [
        "# Voting age constants\n",
        "JAMSHED_AGE = 22\n",
        "Ali_AGE = 21\n",
        "FAIZA_AGE = 20\n",
        "\n",
        "def main():\n",
        "    user_age = int(input(\"How old are you? \"))\n",
        "\n",
        "    #  voting check\n",
        "    if user_age >= JAMSHED_AGE:\n",
        "        print(f\"You can vote in Jamshed where the voting age is {JAMSHED_AGE}.\")\n",
        "    else:\n",
        "        print(f\"You cannot vote in Jamshed where the voting age is {JAMSHED_AGE}.\")\n",
        "\n",
        "    # voting check\n",
        "    if user_age >= Ali_AGE:\n",
        "        print(f\"You can vote in Ali where the voting age is {Ali_AGE}.\")\n",
        "    else:\n",
        "        print(f\"You cannot vote in Ali where the voting age is {Ali_AGE}.\")\n",
        "\n",
        "    #  voting check\n",
        "    if user_age >= FAIZA_AGE:\n",
        "        print(f\"You can vote in Faiza where the voting age is {FAIZA_AGE}.\")\n",
        "    else:\n",
        "        print(f\"You cannot vote in Faiza where the voting age is {FAIZA_AGE}.\")\n",
        "\n",
        "if __name__ == '__main__':\n",
        "    main()\n"
      ]
    },
    {
      "cell_type": "code",
      "execution_count": 3,
      "metadata": {
        "colab": {
          "base_uri": "https://localhost:8080/"
        },
        "id": "WOeWOy98sC4k",
        "outputId": "09701c90-8fd9-4191-fe52-71eb3d58e25e"
      },
      "outputs": [
        {
          "name": "stdout",
          "output_type": "stream",
          "text": [
            "Please input a year: 2004\n",
            "That's a leap year!\n"
          ]
        }
      ],
      "source": [
        "def main():\n",
        "\n",
        "    year = int(input(\"Please input a year: \"))\n",
        "\n",
        "    # check Leap year\n",
        "    if year % 4 == 0:\n",
        "        if year % 100 == 0:\n",
        "            if year % 400 == 0:\n",
        "                print(\"That's a leap year!\")\n",
        "            else:\n",
        "                print(\"That's not a leap year.\")\n",
        "        else:\n",
        "            print(\"That's a leap year!\")\n",
        "    else:\n",
        "        print(\"That's not a leap year.\")\n",
        "\n",
        "if __name__ == '__main__':\n",
        "    main()\n"
      ]
    },
    {
      "cell_type": "code",
      "execution_count": 4,
      "metadata": {
        "colab": {
          "base_uri": "https://localhost:8080/"
        },
        "id": "66Pmg_LXsI8h",
        "outputId": "b9396157-bc8f-4441-8d79-cd230f88b5ae"
      },
      "outputs": [
        {
          "name": "stdout",
          "output_type": "stream",
          "text": [
            "How tall are you? 5.1\n",
            "You're not tall enough to ride, but maybe next year!\n"
          ]
        }
      ],
      "source": [
        "MINIMUM_HEIGHT = 5.6\n",
        "\n",
        "def main():\n",
        "    height = float(input(\"How tall are you? \"))\n",
        "    if height >= MINIMUM_HEIGHT:\n",
        "        print(\"You're tall enough to ride!\")\n",
        "    else:\n",
        "        print(\"You're not tall enough to ride, but maybe next year!\")\n",
        "\n",
        "if __name__ == '__main__':\n",
        "    main()"
      ]
    },
    {
      "cell_type": "code",
      "execution_count": 7,
      "metadata": {
        "colab": {
          "base_uri": "https://localhost:8080/"
        },
        "id": "dbR1nzvVsPOP",
        "outputId": "57d3b952-bab0-4af9-b96e-6690ecf26591"
      },
      "outputs": [
        {
          "name": "stdout",
          "output_type": "stream",
          "text": [
            "87 67 57 90 10 39 93 25 78 82 \n"
          ]
        }
      ],
      "source": [
        "import random\n",
        "\n",
        "N_NUMBERS = 10\n",
        "MIN_VALUE = 1\n",
        "MAX_VALUE = 100\n",
        "\n",
        "def main():\n",
        "    for _ in range(N_NUMBERS):\n",
        "        print(random.randint(MIN_VALUE, MAX_VALUE), end=\" \")\n",
        "    print()\n",
        "\n",
        "if __name__ == '__main__':\n",
        "    main()\n"
      ]
    }
  ],
  "metadata": {
    "colab": {
      "authorship_tag": "ABX9TyNZ0gaPC6J6/AuwzceBNZQc",
      "include_colab_link": true,
      "provenance": []
    },
    "kernelspec": {
      "display_name": "Python 3",
      "name": "python3"
    },
    "language_info": {
      "name": "python"
    }
  },
  "nbformat": 4,
  "nbformat_minor": 0
}
