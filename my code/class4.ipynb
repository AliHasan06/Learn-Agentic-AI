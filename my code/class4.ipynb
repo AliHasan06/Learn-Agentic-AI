{
 "cells": [
  {
   "cell_type": "markdown",
   "metadata": {},
   "source": [
    "## dictionary methods "
   ]
  },
  {
   "cell_type": "code",
   "execution_count": 8,
   "metadata": {},
   "outputs": [
    {
     "data": {
      "text/plain": [
       "['New York', 'Los Angeles', 'Chicago', 'Houston', 'Phoenix']"
      ]
     },
     "execution_count": 8,
     "metadata": {},
     "output_type": "execute_result"
    }
   ],
   "source": [
    "# prompt: genrate a List of 5 american cities\n",
    "\n",
    "american_cities: dict = [\"New York\", \"Los Angeles\", \"Chicago\", \"Houston\", \"Phoenix\"]\n",
    "american_cities\n"
   ]
  },
  {
   "cell_type": "code",
   "execution_count": 9,
   "metadata": {},
   "outputs": [
    {
     "name": "stdout",
     "output_type": "stream",
     "text": [
      "{'name': 'Alice', 'age': 25, 'visited_cities': ['New York', 'Los Angeles', 'Chicago', 'Houston', 'Phoenix']}\n"
     ]
    }
   ],
   "source": [
    "# Create a dictionary to store a person's details\n",
    "person: dict = {\n",
    "    \"name\": \"Alice\",\n",
    "    \"age\": 25,\n",
    "    \"visited_cities\": american_cities\n",
    "}\n",
    "print(person)"
   ]
  },
  {
   "cell_type": "code",
   "execution_count": 4,
   "metadata": {},
   "outputs": [
    {
     "name": "stdout",
     "output_type": "stream",
     "text": [
      "person dict_keys(['name', 'age', 'visited_cities'])\n"
     ]
    }
   ],
   "source": [
    "print(\"person\", person.keys())"
   ]
  },
  {
   "cell_type": "markdown",
   "metadata": {},
   "source": [
    "## **6. Dictionary Methods**\n",
    "\n",
    "Python provides several useful methods for working with dictionaries.\n",
    "\n",
    "\n",
    "| Method   | Description                                                       |   |\n",
    "|----------|-------------------------------------------------------------------|---|\n",
    "| keys()   | Returns a list of all keys in the dictionary.                     |   |\n",
    "| values() | Returns a list of all values in the dictionary.                   |   |\n",
    "| items()  | Returns a list of key-value pairs as tuples.                      |   |\n",
    "| clear()  | Removes all items from the dictionary.                            |   |\n",
    "| update() | Adds or updates multiple key-value pairs from another dictionary. |   |"
   ]
  },
  {
   "cell_type": "code",
   "execution_count": 5,
   "metadata": {},
   "outputs": [
    {
     "data": {
      "text/plain": [
       "dict_values(['Alice', 25, ['New York', 'Los Angeles', 'Chicago', 'Houston', 'Phoenix']])"
      ]
     },
     "execution_count": 5,
     "metadata": {},
     "output_type": "execute_result"
    }
   ],
   "source": [
    "person.values()"
   ]
  },
  {
   "cell_type": "code",
   "execution_count": 6,
   "metadata": {},
   "outputs": [
    {
     "data": {
      "text/plain": [
       "dict_items([('name', 'Alice'), ('age', 25), ('visited_cities', ['New York', 'Los Angeles', 'Chicago', 'Houston', 'Phoenix'])])"
      ]
     },
     "execution_count": 6,
     "metadata": {},
     "output_type": "execute_result"
    }
   ],
   "source": [
    "person.items()"
   ]
  },
  {
   "cell_type": "code",
   "execution_count": 7,
   "metadata": {},
   "outputs": [
    {
     "name": "stdout",
     "output_type": "stream",
     "text": [
      "After: person.clear() =  {}\n"
     ]
    }
   ],
   "source": [
    "person.clear()\n",
    "print(\"After: person.clear() = \", person)"
   ]
  },
  {
   "cell_type": "code",
   "execution_count": 11,
   "metadata": {},
   "outputs": [
    {
     "name": "stdout",
     "output_type": "stream",
     "text": [
      "After: person.update  =  {'name': 'Alice', 'age': 22, 'visited_cities': ['New York', 'Los Angeles', 'Chicago', 'Houston', 'Phoenix'], 'college': 'UPen'}\n"
     ]
    }
   ],
   "source": [
    "person.update({'age':22,'college':'UPen'})\n",
    "print(\"After: person.update  = \", person)\n"
   ]
  },
  {
   "cell_type": "code",
   "execution_count": null,
   "metadata": {},
   "outputs": [],
   "source": []
  }
 ],
 "metadata": {
  "kernelspec": {
   "display_name": "base",
   "language": "python",
   "name": "python3"
  },
  "language_info": {
   "codemirror_mode": {
    "name": "ipython",
    "version": 3
   },
   "file_extension": ".py",
   "mimetype": "text/x-python",
   "name": "python",
   "nbconvert_exporter": "python",
   "pygments_lexer": "ipython3",
   "version": "3.12.7"
  }
 },
 "nbformat": 4,
 "nbformat_minor": 2
}
