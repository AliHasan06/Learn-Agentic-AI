{
 "cells": [
  {
   "cell_type": "code",
   "execution_count": 10,
   "metadata": {},
   "outputs": [
    {
     "name": "stdout",
     "output_type": "stream",
     "text": [
      "Hello, my name is Arif Rozani and I am 20 years old.\n"
     ]
    }
   ],
   "source": [
    "class Person: # Class Person (source code/blue print of an object at runtime)\n",
    "    def __init__(self, name: str, age: int): # initilizer or constructor which is responsible to create Object in memory at runtime\n",
    "        self.name = name           # Pereson attibute\n",
    "        self.age = age             # Pereson attibute\n",
    "\n",
    "    def greet(self): # Person Class method greet()\n",
    "        print(f\"Hello, my name is {self.name} and I am {self.age} years old.\") # Print/Output to console/terminal\n",
    "\n",
    "# Lets create a Person object in memory\n",
    "person: Person = Person(\"Arif Rozani\", 20)\n",
    "\n",
    "person.greet() # Lets call Person Object's greet method"
   ]
  },
  {
   "cell_type": "code",
   "execution_count": 11,
   "metadata": {},
   "outputs": [
    {
     "name": "stdout",
     "output_type": "stream",
     "text": [
      "hello, name is ali hasan and i am 19 years old.\n"
     ]
    }
   ],
   "source": [
    "class person: \n",
    "    def __init__(self, name:str, age:int):\n",
    "        self.name = name\n",
    "        self.age = age\n",
    "\n",
    "    def greet(self):\n",
    "        print(f\"hello, name is {self.name} and i am {self.age} years old.\")\n",
    "\n",
    "Person : person = person('ali hasan', 19)\n",
    "Person.greet()           "
   ]
  },
  {
   "cell_type": "code",
   "execution_count": 12,
   "metadata": {},
   "outputs": [
    {
     "name": "stdout",
     "output_type": "stream",
     "text": [
      "Ahmed is fight with a boy age 15.\n"
     ]
    }
   ],
   "source": [
    "class boy:\n",
    "    def __init__(male, name:str, age:int):\n",
    "        male.name=name\n",
    "        male.age= age\n",
    "\n",
    "    def fight(male):\n",
    "        print(f\"{male.name} is fight with a boy age {male.age}.\")\n",
    "\n",
    "BOYS: boy=boy('Ahmed',15)\n",
    "BOYS.fight()        "
   ]
  },
  {
   "cell_type": "code",
   "execution_count": 15,
   "metadata": {},
   "outputs": [
    {
     "name": "stdout",
     "output_type": "stream",
     "text": [
      "Disassembly of __init__:\n",
      "  2           0 RESUME                   0\n",
      "\n",
      "  3           2 LOAD_FAST                1 (name)\n",
      "              4 LOAD_FAST                0 (male)\n",
      "              6 STORE_ATTR               0 (name)\n",
      "\n",
      "  4          16 LOAD_FAST                2 (age)\n",
      "             18 LOAD_FAST                0 (male)\n",
      "             20 STORE_ATTR               1 (age)\n",
      "             30 RETURN_CONST             0 (None)\n",
      "\n",
      "Disassembly of fight:\n",
      "  6           0 RESUME                   0\n",
      "\n",
      "  7           2 LOAD_GLOBAL              1 (NULL + print)\n",
      "             12 LOAD_FAST                0 (male)\n",
      "             14 LOAD_ATTR                2 (name)\n",
      "             34 FORMAT_VALUE             0\n",
      "             36 LOAD_CONST               1 (' is fight with a boy age ')\n",
      "             38 LOAD_FAST                0 (male)\n",
      "             40 LOAD_ATTR                4 (age)\n",
      "             60 FORMAT_VALUE             0\n",
      "             62 LOAD_CONST               2 ('.')\n",
      "             64 BUILD_STRING             4\n",
      "             66 CALL                     1\n",
      "             74 POP_TOP\n",
      "             76 RETURN_CONST             0 (None)\n",
      "\n"
     ]
    }
   ],
   "source": [
    "import dis\n",
    "dis.dis(boy)"
   ]
  },
  {
   "cell_type": "code",
   "execution_count": 16,
   "metadata": {},
   "outputs": [
    {
     "data": {
      "text/plain": [
       "1"
      ]
     },
     "execution_count": 16,
     "metadata": {},
     "output_type": "execute_result"
    }
   ],
   "source": [
    "user = 1\n",
    "user"
   ]
  },
  {
   "cell_type": "code",
   "execution_count": null,
   "metadata": {},
   "outputs": [],
   "source": []
  }
 ],
 "metadata": {
  "kernelspec": {
   "display_name": "base",
   "language": "python",
   "name": "python3"
  },
  "language_info": {
   "codemirror_mode": {
    "name": "ipython",
    "version": 3
   },
   "file_extension": ".py",
   "mimetype": "text/x-python",
   "name": "python",
   "nbconvert_exporter": "python",
   "pygments_lexer": "ipython3",
   "version": "3.12.7"
  }
 },
 "nbformat": 4,
 "nbformat_minor": 2
}
