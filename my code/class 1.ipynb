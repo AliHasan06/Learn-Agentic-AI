{
 "cells": [
  {
   "cell_type": "code",
   "execution_count": 1,
   "metadata": {},
   "outputs": [
    {
     "name": "stdout",
     "output_type": "stream",
     "text": [
      "Hello, my name is Arif Rozani and I am 20 years old.\n"
     ]
    }
   ],
   "source": [
    "class Person: # Class Person (source code/blue print of an object at runtime)\n",
    "    def __init__(self, name: str, age: int): # initilizer or constructor which is responsible to create Object in memory at runtime\n",
    "        self.name = name           # Pereson attibute\n",
    "        self.age = age             # Pereson attibute\n",
    "\n",
    "    def greet(self): # Person Class method greet()\n",
    "        print(f\"Hello, my name is {self.name} and I am {self.age} years old.\") # Print/Output to console/terminal\n",
    "\n",
    "# Lets create a Person object in memory\n",
    "person: Person = Person(\"Arif Rozani\", 20)\n",
    "\n",
    "person.greet() # Lets call Person Object's greet method"
   ]
  },
  {
   "cell_type": "code",
   "execution_count": 2,
   "metadata": {},
   "outputs": [
    {
     "name": "stdout",
     "output_type": "stream",
     "text": [
      "Disassembly of __init__:\n",
      "  2           0 RESUME                   0\n",
      "\n",
      "  3           2 LOAD_FAST                1 (name)\n",
      "              4 LOAD_FAST                0 (self)\n",
      "              6 STORE_ATTR               0 (name)\n",
      "\n",
      "  4          16 LOAD_FAST                2 (age)\n",
      "             18 LOAD_FAST                0 (self)\n",
      "             20 STORE_ATTR               1 (age)\n",
      "             30 RETURN_CONST             0 (None)\n",
      "\n",
      "Disassembly of greet:\n",
      "  6           0 RESUME                   0\n",
      "\n",
      "  7           2 LOAD_GLOBAL              1 (NULL + print)\n",
      "             12 LOAD_CONST               1 ('Hello, my name is ')\n",
      "             14 LOAD_FAST                0 (self)\n",
      "             16 LOAD_ATTR                2 (name)\n",
      "             36 FORMAT_VALUE             0\n",
      "             38 LOAD_CONST               2 (' and I am ')\n",
      "             40 LOAD_FAST                0 (self)\n",
      "             42 LOAD_ATTR                4 (age)\n",
      "             62 FORMAT_VALUE             0\n",
      "             64 LOAD_CONST               3 (' years old.')\n",
      "             66 BUILD_STRING             5\n",
      "             68 CALL                     1\n",
      "             76 POP_TOP\n",
      "             78 RETURN_CONST             0 (None)\n",
      "\n"
     ]
    }
   ],
   "source": [
    "import dis\n",
    "dis.dis(Person)"
   ]
  },
  {
   "cell_type": "code",
   "execution_count": null,
   "metadata": {},
   "outputs": [],
   "source": []
  }
 ],
 "metadata": {
  "kernelspec": {
   "display_name": "base",
   "language": "python",
   "name": "python3"
  },
  "language_info": {
   "codemirror_mode": {
    "name": "ipython",
    "version": 3
   },
   "file_extension": ".py",
   "mimetype": "text/x-python",
   "name": "python",
   "nbconvert_exporter": "python",
   "pygments_lexer": "ipython3",
   "version": "3.12.7"
  }
 },
 "nbformat": 4,
 "nbformat_minor": 2
}
